{
 "cells": [
  {
   "cell_type": "markdown",
   "metadata": {},
   "source": [
    "## Step 1: Split up images into 256x256 images"
   ]
  },
  {
   "cell_type": "code",
   "execution_count": 33,
   "metadata": {},
   "outputs": [],
   "source": [
    "import os\n",
    "\n",
    "def rename_files(input_folder):\n",
    "    # List all files in the directory\n",
    "    files = os.listdir(input_folder)\n",
    "\n",
    "    for file in files:\n",
    "        # Check if the filename starts with 'mask_'\n",
    "        if file.startswith(\"mask_\"):\n",
    "            # Generate the new filename by removing 'mask_'\n",
    "            new_filename = file.replace(\"mask_\", \"\")\n",
    "            # Create full paths\n",
    "            original_path = os.path.join(input_folder, file)\n",
    "            new_path = os.path.join(input_folder, new_filename)\n",
    "            # Rename the file\n",
    "            os.rename(original_path, new_path)\n",
    "            print(f\"Renamed '{file}' to '{new_filename}'\")\n",
    "\n",
    "if __name__ == \"__main__\":\n",
    "    # Specify the folder containing the mask files\n",
    "    input_folder = \"./temp/train_masks\"  # Change this to your actual folder path\n",
    "    rename_files(input_folder)"
   ]
  },
  {
   "cell_type": "code",
   "execution_count": 34,
   "metadata": {},
   "outputs": [
    {
     "name": "stdout",
     "output_type": "stream",
     "text": [
      "Masks created and saved.\n",
      "Masks created and saved.\n"
     ]
    }
   ],
   "source": [
    "import os\n",
    "import cv2\n",
    "import numpy as np\n",
    "from matplotlib import pyplot as plt\n",
    "from patchify import patchify\n",
    "\n",
    "original_height = None\n",
    "original_width = None\n",
    "\n",
    "def create_mask(input_folder, output_folder):\n",
    "    global original_height, original_width\n",
    "    # Create the output folder if it doesn't exist\n",
    "    if not os.path.exists(output_folder):\n",
    "        os.makedirs(output_folder)\n",
    "\n",
    "    # Get a list of image filenames in the input folder\n",
    "    image_files = [f for f in os.listdir(input_folder) if f.endswith(('.jpg', '.jpeg', '.png'))]\n",
    "\n",
    "    for image_file in image_files:\n",
    "        # Read the image\n",
    "        image_path = os.path.join(input_folder, image_file)\n",
    "        image = cv2.imread(image_path)\n",
    "\n",
    "        if image is None:\n",
    "            print(f\"Error: Unable to open image file {image_path}\")\n",
    "            continue\n",
    "            \n",
    "#         original_height, original_width = image.shape[:2]\n",
    "        if original_height is None or original_width is None:\n",
    "                    original_height, original_width = image.shape[:2]\n",
    "\n",
    "        # Resize the image to make dimensions divisible by 256\n",
    "        height, width = image.shape[:2]\n",
    "        new_height = height - (height % 256)\n",
    "        new_width = width - (width % 256)\n",
    "\n",
    "        if new_height == 0 or new_width == 0:\n",
    "            print(f\"Image {image_path} is too small for resizing.\")\n",
    "            continue\n",
    "\n",
    "        image = cv2.resize(image, (new_width, new_height), interpolation=cv2.INTER_AREA)\n",
    "\n",
    "        # Create patches\n",
    "        patches_img = patchify(image, (256, 256, 3), step=256)\n",
    "        for i in range(patches_img.shape[0]):\n",
    "            for j in range(patches_img.shape[1]):\n",
    "                single_patch_img = patches_img[i, j, 0]\n",
    "                # Save the patch\n",
    "                mask_filename = os.path.join(output_folder, f\"{image_file[:-4]}_{i}_{j}.jpg\")\n",
    "                cv2.imwrite(mask_filename, single_patch_img)\n",
    "\n",
    "    print(\"Masks created and saved.\")\n",
    "\n",
    "if __name__ == \"__main__\":\n",
    "    # Input folder containing original images\n",
    "    images_input = \"./temp/train_images\"\n",
    "    \n",
    "    # Output folder for images\n",
    "    images_output = \"./temp/p_train_images\"\n",
    "\n",
    "    # Create masks\n",
    "    create_mask(images_input, images_output)\n",
    "    \n",
    "    # Input folder containing annotated images\n",
    "    masks_input = \"./temp/train_masks\"\n",
    "    \n",
    "    # Output folder for masks\n",
    "    masks_output = \"./temp/p_train_masks\"\n",
    "\n",
    "    # Create masks\n",
    "    create_mask(masks_input, masks_output)\n"
   ]
  },
  {
   "cell_type": "markdown",
   "metadata": {},
   "source": [
    "## Step 2: Run Prediction for Each 256x256 image"
   ]
  },
  {
   "cell_type": "code",
   "execution_count": 35,
   "metadata": {},
   "outputs": [],
   "source": [
    "# util.py\n",
    "# load packet\n",
    "# check accuracy\n",
    "# model.eval() predict\n",
    "\n"
   ]
  },
  {
   "cell_type": "markdown",
   "metadata": {},
   "source": [
    "## Step 3: Reconstruct the Original Image and Mask"
   ]
  },
  {
   "cell_type": "code",
   "execution_count": 36,
   "metadata": {},
   "outputs": [
    {
     "name": "stdout",
     "output_type": "stream",
     "text": [
      "Images reconstructed and saved.\n",
      "Images reconstructed and saved.\n"
     ]
    }
   ],
   "source": [
    "def reconstruct_image(patches_folder, reconstructed_folder):\n",
    "    global original_height, original_width\n",
    "    # Create the reconstructed folder if it doesn't exist\n",
    "    if not os.path.exists(reconstructed_folder):\n",
    "        os.makedirs(reconstructed_folder)\n",
    "\n",
    "    files = os.listdir(patches_folder)\n",
    "    unique_ids = set('_'.join(file.split('_')[:2]) for file in files if file.endswith(('.jpg', '.jpeg', '.png')))\n",
    "\n",
    "    for image_id in unique_ids:\n",
    "        patch_files = [f for f in files if f.startswith(image_id) and f.endswith(('.jpg', '.jpeg', '.png'))]\n",
    "        patch_files.sort()\n",
    "\n",
    "        # Determine dimensions for reconstruction\n",
    "        max_i = max_j = 0\n",
    "        for file in patch_files:\n",
    "            parts = file.split('_')\n",
    "            i, j = int(parts[2]), int(parts[3].split('.')[0])\n",
    "            max_i = max(max_i, i)\n",
    "            max_j = max(max_j, j)\n",
    "\n",
    "        patch_size = 256\n",
    "        height = (max_i + 1) * patch_size\n",
    "        width = (max_j + 1) * patch_size\n",
    "        reconstructed_image = np.zeros((height, width, 3), dtype=np.uint8)\n",
    "\n",
    "        # Place each patch in the correct position\n",
    "        for file in patch_files:\n",
    "            parts = file.split('_')\n",
    "            i, j = int(parts[2]), int(parts[3].split('.')[0])\n",
    "            patch = cv2.imread(os.path.join(patches_folder, file))\n",
    "            reconstructed_image[i*patch_size:(i+1)*patch_size, j*patch_size:(j+1)*patch_size] = patch\n",
    "\n",
    "        # Save the reconstructed image\n",
    "        reconstructed_filename = os.path.join(reconstructed_folder, f'{image_id}.jpg')\n",
    "        cv2.imwrite(reconstructed_filename, reconstructed_image)\n",
    "        \n",
    "        # Resize to the original dimensions\n",
    "        resized_image = cv2.resize(reconstructed_image, (original_width, original_height), interpolation=cv2.INTER_AREA)\n",
    "        reconstructed_filename = os.path.join(reconstructed_folder, f'{image_id}.jpg')\n",
    "        cv2.imwrite(reconstructed_filename, resized_image)\n",
    "\n",
    "    print(\"Images reconstructed and saved.\")\n",
    "\n",
    "if __name__ == \"__main__\":\n",
    "    \n",
    "    # IMAGES ######################################################\n",
    "    # Paths for input and output\n",
    "    input_folder = \"./temp/train_images\"\n",
    "    output_folder = \"./temp/p_train_images\"\n",
    "    reconstructed_folder = \"./temp/reconstructed_images/images\"\n",
    "\n",
    "    # Reconstruct images\n",
    "    reconstruct_image(output_folder, reconstructed_folder)\n",
    "    \n",
    "    # MASKS #######################################################\n",
    "    input_folder = \"./temp/train_masks\"\n",
    "    output_folder = \"./temp/p_train_masks\"\n",
    "    reconstructed_folder = \"./temp/reconstructed_images/masks\"\n",
    "\n",
    "    # Reconstruct images\n",
    "    reconstruct_image(output_folder, reconstructed_folder)"
   ]
  },
  {
   "cell_type": "code",
   "execution_count": null,
   "metadata": {},
   "outputs": [],
   "source": []
  }
 ],
 "metadata": {
  "kernelspec": {
   "display_name": "Python 3",
   "language": "python",
   "name": "python3"
  },
  "language_info": {
   "codemirror_mode": {
    "name": "ipython",
    "version": 3
   },
   "file_extension": ".py",
   "mimetype": "text/x-python",
   "name": "python",
   "nbconvert_exporter": "python",
   "pygments_lexer": "ipython3",
   "version": "3.8.3"
  }
 },
 "nbformat": 4,
 "nbformat_minor": 4
}
