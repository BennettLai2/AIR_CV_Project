{
 "cells": [
  {
   "cell_type": "code",
   "execution_count": 9,
   "metadata": {},
   "outputs": [
    {
     "name": "stdout",
     "output_type": "stream",
     "text": [
      "Frames extracted and saved to img\n"
     ]
    }
   ],
   "source": [
    "import cv2\n",
    "import os\n",
    "\n",
    "def extract_frames(video_path, output_folder, fps=1):\n",
    "    # Create the output folder if it doesn't exist\n",
    "    if not os.path.exists(output_folder):\n",
    "        os.makedirs(output_folder)\n",
    "\n",
    "    # Open the video file\n",
    "    cap = cv2.VideoCapture(video_path)\n",
    "    if not cap.isOpened():\n",
    "        print(\"Error: Unable to open video file.\")\n",
    "        return\n",
    "    # print(int(cap.get(cv2.CAP_PROP_FRAME_COUNT))      )\n",
    "    frame_count = 0\n",
    "    while True:\n",
    "        ret, frame = cap.read()\n",
    "\n",
    "        if not ret:\n",
    "            break\n",
    "\n",
    "        frame_count += 1\n",
    "\n",
    "        # Save the frame if it's the desired frame rate\n",
    "        if frame_count % fps == 0:\n",
    "            frame_filename = os.path.join(output_folder, f\"img_{int(frame_count/60+738)}.jpg\")\n",
    "            cv2.imwrite(frame_filename, frame)\n",
    "\n",
    "    cap.release()\n",
    "    print(f\"Frames extracted and saved to {output_folder}\")\n",
    "\n",
    "# Input video file path\n",
    "video_path = \"vid3.MP4\"\n",
    "# Output folder\n",
    "output_folder = \"img\"\n",
    "\n",
    "# Frame rate (frames per second)\n",
    "fps =60\n",
    "\n",
    "# Extract frames\n",
    "extract_frames(video_path, output_folder, fps)\n"
   ]
  },
  {
   "cell_type": "code",
   "execution_count": 1,
   "metadata": {},
   "outputs": [
    {
     "name": "stdout",
     "output_type": "stream",
     "text": [
      "39 zip files created.\n"
     ]
    }
   ],
   "source": [
    "import os\n",
    "import random\n",
    "import zipfile\n",
    "\n",
    "def pick_and_zip_images(input_folder, output_folder, zip_size=30):\n",
    "    # Create the output folder if it doesn't exist\n",
    "    if not os.path.exists(output_folder):\n",
    "        os.makedirs(output_folder)\n",
    "\n",
    "    # Get a list of all image filenames in the input folder\n",
    "    all_image_files = [f for f in os.listdir(input_folder) if f.endswith(('.jpg', '.jpeg', '.png'))]\n",
    "\n",
    "    # While there are images left in the input folder\n",
    "    zip_count = 0\n",
    "    while all_image_files:\n",
    "        # Shuffle the image filenames\n",
    "        random.shuffle(all_image_files)\n",
    "\n",
    "        # Pick 30 images or remaining images if less than 30\n",
    "        selected_images = all_image_files[:min(zip_size, len(all_image_files))]\n",
    "\n",
    "        # Remove selected images from the list of all images\n",
    "        all_image_files = all_image_files[len(selected_images):]\n",
    "\n",
    "        # Create a zip file with selected images\n",
    "        zip_count += 1\n",
    "        zip_filename = os.path.join(output_folder, f\"images_{zip_count}.zip\")\n",
    "        with zipfile.ZipFile(zip_filename, 'w') as zipf:\n",
    "            for image_file in selected_images:\n",
    "                image_path = os.path.join(input_folder, image_file)\n",
    "                zipf.write(image_path, arcname=image_file)\n",
    "\n",
    "    print(f\"{zip_count} zip files created.\")\n",
    "\n",
    "# Input folder containing images\n",
    "input_folder = \"img\"\n",
    "\n",
    "# Output folder for zip files\n",
    "output_folder = \"img_zip\"\n",
    "\n",
    "# Number of images per zip file\n",
    "zip_size = 30\n",
    "\n",
    "# Pick and create zip files\n",
    "pick_and_zip_images(input_folder, output_folder, zip_size)"
   ]
  }
 ],
 "metadata": {
  "kernelspec": {
   "display_name": "Python 3",
   "language": "python",
   "name": "python3"
  },
  "language_info": {
   "codemirror_mode": {
    "name": "ipython",
    "version": 3
   },
   "file_extension": ".py",
   "mimetype": "text/x-python",
   "name": "python",
   "nbconvert_exporter": "python",
   "pygments_lexer": "ipython3",
   "version": "3.10.5"
  }
 },
 "nbformat": 4,
 "nbformat_minor": 2
}
