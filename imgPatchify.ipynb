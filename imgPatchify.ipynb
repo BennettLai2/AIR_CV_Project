{
 "cells": [
  {
   "cell_type": "code",
   "execution_count": 4,
   "metadata": {},
   "outputs": [
    {
     "name": "stdout",
     "output_type": "stream",
     "text": [
      "Masks created and saved.\n"
     ]
    }
   ],
   "source": [
    "import os\n",
    "import cv2\n",
    "import numpy as np\n",
    "from matplotlib import pyplot as plt\n",
    "from patchify import patchify\n",
    "\n",
    "def create_patch(input_folder, output_folder):\n",
    "    # Create the output folder if it doesn't exist\n",
    "    if not os.path.exists(output_folder):\n",
    "        os.makedirs(output_folder)\n",
    "\n",
    "    # Get a list of image filenames in the input folder\n",
    "    image_files = [f for f in os.listdir(input_folder) if f.endswith(('.jpg', '.jpeg', '.png'))]\n",
    "\n",
    "    for image_file in image_files:\n",
    "        # Read the image\n",
    "        image_path = os.path.join(input_folder, image_file)\n",
    "        image = cv2.imread(image_path)\n",
    "\n",
    "        if image is None:\n",
    "            print(f\"Error: Unable to open image file {image_path}\")\n",
    "            continue\n",
    "\n",
    "        # Making patches\n",
    "        patches_img = patchify(image, (256, 256, 3), step = 256)\n",
    "        # print(patches_img.shape)\n",
    "        for i in range(patches_img.shape[0]): \n",
    "            for j in range(patches_img.shape[1]): \n",
    "                single_patch_img = patches_img[i, j, :, :]\n",
    "                single_patch_img = single_patch_img[0]\n",
    "                mask_filename = os.path.join(output_folder, f\"{image_file[:-4]}_{i}_{j}.jpg\")\n",
    "                cv2.imwrite(mask_filename, single_patch_img)\n",
    "\n",
    "if __name__ == \"__main__\":\n",
    "    # Input folder containing annotated images\n",
    "    input_folder = \"data/p_val_masks\"\n",
    "    \n",
    "    # Output folder for masks\n",
    "    output_folder = \"data/val_masks\"\n",
    "\n",
    "    # Create masks\n",
    "    create_mask(input_folder, output_folder)\n",
    "\n"
   ]
  },
  {
   "cell_type": "code",
   "execution_count": 13,
   "metadata": {},
   "outputs": [],
   "source": [
    "import os\n",
    "import random\n",
    "import cv2\n",
    "\n",
    "# Define the paths to the folders containing the images\n",
    "mask_folder = \"data/train_masks\"\n",
    "img_folder = \"data/train_images\"\n",
    "\n",
    "# Iterate through the images in the mask folder\n",
    "for mask_file in os.listdir(mask_folder):\n",
    "    if mask_file.startswith(\"mask_img_\") and mask_file.endswith(\".jpg\"):\n",
    "        mask_path = os.path.join(mask_folder, mask_file)\n",
    "        img_file = mask_file.replace(\"mask_img_\", \"img_\")\n",
    "        img_path = os.path.join(img_folder, img_file)\n",
    "\n",
    "        # Check if the mask image is all black\n",
    "        mask_image = cv2.imread(mask_path, cv2.IMREAD_GRAYSCALE)\n",
    "        if cv2.countNonZero(mask_image) == 0:\n",
    "            # Image is all black\n",
    "            # print(f\"{mask_file} is all black. Deleting with 90% chance.\")\n",
    "            # Decide whether to delete the corresponding image with 90% chance\n",
    "            if random.random() < 0.8:\n",
    "                os.remove(mask_path)\n",
    "                if os.path.exists(img_path):\n",
    "                    os.remove(img_path)\n",
    "        #             print(f\"{img_file} deleted.\")\n",
    "        #     else:\n",
    "        #         print(f\"{img_file} not deleted (10% chance).\")\n",
    "        # else:\n",
    "        #     print(f\"{mask_file} is not all black.\")\n"
   ]
  }
 ],
 "metadata": {
  "kernelspec": {
   "display_name": "Python 3",
   "language": "python",
   "name": "python3"
  },
  "language_info": {
   "codemirror_mode": {
    "name": "ipython",
    "version": 3
   },
   "file_extension": ".py",
   "mimetype": "text/x-python",
   "name": "python",
   "nbconvert_exporter": "python",
   "pygments_lexer": "ipython3",
   "version": "3.10.11"
  }
 },
 "nbformat": 4,
 "nbformat_minor": 2
}
