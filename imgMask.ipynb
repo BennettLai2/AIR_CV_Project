{
 "cells": [
  {
   "cell_type": "code",
   "execution_count": 46,
   "metadata": {},
   "outputs": [
    {
     "name": "stdout",
     "output_type": "stream",
     "text": [
      "Masks created and saved.\n"
     ]
    }
   ],
   "source": [
    "import os\n",
    "import cv2\n",
    "import numpy as np\n",
    "\n",
    "def create_mask(input_folder, output_folder):\n",
    "    # Create the output folder if it doesn't exist\n",
    "    if not os.path.exists(output_folder):\n",
    "        os.makedirs(output_folder)\n",
    "\n",
    "    # Get a list of image filenames in the input folder\n",
    "    image_files = [f for f in os.listdir(input_folder) if f.endswith(('.jpg', '.jpeg', '.png'))]\n",
    "\n",
    "    for image_file in image_files:\n",
    "        # Read the image\n",
    "        image_path = os.path.join(input_folder, image_file)\n",
    "        image = cv2.imread(image_path)\n",
    "\n",
    "        if image is None:\n",
    "            print(f\"Error: Unable to open image file {image_path}\")\n",
    "            continue\n",
    "\n",
    "        hsv_image = cv2.cvtColor(image, cv2.COLOR_BGR2HSV)\n",
    "\n",
    "        # Define the range of orange color in HSV\n",
    "        lower_orange = np.array([4, 150, 150])   # Lower bound for orange in HSV\n",
    "        upper_orange = np.array([16, 255, 255])  # Upper bound for orange in HSV\n",
    "\n",
    "        # Create a mask where the orange pixels are white and all other pixels are black\n",
    "        mask = cv2.inRange(hsv_image, lower_orange, upper_orange)\n",
    "\n",
    "        # Save the mask\n",
    "        mask_filename = os.path.join(output_folder, f\"mask_{image_file}\")\n",
    "        cv2.imwrite(mask_filename, mask)\n",
    "\n",
    "    print(\"Masks created and saved.\")\n",
    "\n",
    "if __name__ == \"__main__\":\n",
    "    # Input folder containing annotated images\n",
    "    input_folder = \"img_annotated\"\n",
    "    \n",
    "    # Output folder for masks\n",
    "    output_folder = \"img_mask\"\n",
    "\n",
    "    # Create masks\n",
    "    create_mask(input_folder, output_folder)\n"
   ]
  },
  {
   "cell_type": "code",
   "execution_count": 42,
   "metadata": {},
   "outputs": [
    {
     "data": {
      "image/png": "[encoded data removed]",
      "text/plain": [
       "<Figure size 640x480 with 1 Axes>"
      ]
     },
     "metadata": {},
     "output_type": "display_data"
    }
   ],
   "source": [
    "import cv2\n",
    "import numpy as np\n",
    "import matplotlib.pyplot as plt\n",
    "\n",
    "def plot_hsv_color(hue, saturation, value):\n",
    "    # Create a 10x10 image filled with the chosen HSV color\n",
    "    color_hsv = np.uint8([[[hue, saturation, value]]])\n",
    "    color_rgb = cv2.cvtColor(color_hsv, cv2.COLOR_HSV2RGB)\n",
    "    color_image = np.tile(color_rgb, (10, 10, 1))\n",
    "\n",
    "    # Display the image using matplotlib\n",
    "    plt.imshow(color_image)\n",
    "    plt.title(f\"Hue: {hue}, Saturation: {saturation}, Value: {value}\")\n",
    "    plt.axis('off')\n",
    "    plt.show()\n",
    "\n",
    "if __name__ == \"__main__\":\n",
    "    # Example: plot a color with hue=60, saturation=255, value=255 (which corresponds to yellow)\n",
    "    plot_hsv_color(16, 180, 180)\n"
   ]
  }
 ],
 "metadata": {
  "kernelspec": {
   "display_name": "Python 3",
   "language": "python",
   "name": "python3"
  },
  "language_info": {
   "codemirror_mode": {
    "name": "ipython",
    "version": 3
   },
   "file_extension": ".py",
   "mimetype": "text/x-python",
   "name": "python",
   "nbconvert_exporter": "python",
   "pygments_lexer": "ipython3",
   "version": "3.10.11"
  }
 },
 "nbformat": 4,
 "nbformat_minor": 2
}
